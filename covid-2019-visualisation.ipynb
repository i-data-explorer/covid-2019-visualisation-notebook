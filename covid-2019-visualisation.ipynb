{
 "cells": [
  {
   "cell_type": "code",
   "execution_count": null,
   "metadata": {
    "scrolled": true
   },
   "outputs": [],
   "source": [
    "#Intall libraries\n",
    "!pip install pandas\n",
    "!pip install plotly"
   ]
  },
  {
   "cell_type": "code",
   "execution_count": null,
   "metadata": {},
   "outputs": [],
   "source": [
    "#During the first run, the dataset must me unzipped. So uncommen this, and comment it after execution.\n",
    "#!unzip /home/jupyter-user/covid_2019_visualization_dataset/covid-2019-visualisation-dataset/covid-dataset.zip -d /home/jupyter-user/covid_2019_visualization_dataset/covid-2019-visualisation-dataset"
   ]
  },
  {
   "cell_type": "markdown",
   "metadata": {},
   "source": [
    "# Analysis and Visualisation of Covid-19 \n",
    "\n",
    "## Reading data"
   ]
  },
  {
   "cell_type": "code",
   "execution_count": null,
   "metadata": {
    "_cell_guid": "",
    "_kg_hide-input": true,
    "_uuid": ""
   },
   "outputs": [],
   "source": [
    "csv_url = 'https://www.kaggle.com/imdevskp/corona-virus-report/download'\n",
    "# csv_filename = 'complete_data_new_format.csv' \n",
    "csv_filename = 'covid_19_clean_complete.csv'\n",
    "\n",
    "import pandas as pd\n",
    "csv_df = pd.read_csv('/home/jupyter-user/covid_2019_visualization_dataset/covid-2019-visualisation-dataset/' + csv_filename)"
   ]
  },
  {
   "cell_type": "code",
   "execution_count": null,
   "metadata": {},
   "outputs": [],
   "source": [
    "csv_df.columns"
   ]
  },
  {
   "cell_type": "code",
   "execution_count": null,
   "metadata": {
    "_kg_hide-input": true
   },
   "outputs": [],
   "source": [
    "from datetime import datetime,date\n",
    "\n",
    "# Format date\n",
    "formatter_string = \"%m/%d/%y\" \n",
    "try:\n",
    "    # To allow re-run instead of throwing exception\n",
    "    csv_df['date'] = pd.to_datetime(csv_df.Date, format=formatter_string)\n",
    "    csv_df['Date'] = csv_df['date'].dt.strftime('%Y-%m-%d')\n",
    "except:\n",
    "    pass\n",
    "\n",
    "# Calculate Active/Recovered\n",
    "csv_df['Active'] = csv_df['Confirmed'] - csv_df['Deaths'] - csv_df['Recovered']\n",
    "\n",
    "# Cleanup Province/State which has NaN\n",
    "csv_df['Province/State'] = csv_df['Province/State'].fillna('-')\n",
    "\n",
    "# Cleanup Confirmed and Death can be negative\n",
    "csv_df['Confirmed'] = csv_df['Confirmed'].apply(lambda x: x if x > 0 else 0)\n",
    "csv_df['Deaths'] = csv_df['Deaths'].apply(lambda x: x if x > 0 else 0)\n",
    "\n",
    "data_dates = csv_df.Date.unique()\n",
    "max_data_date = max(data_dates)\n",
    "print(\"Last date in {csv_filename} is {max_data_date}\".format(max_data_date=max_data_date,csv_filename=csv_filename))"
   ]
  },
  {
   "cell_type": "code",
   "execution_count": null,
   "metadata": {
    "_kg_hide-input": true
   },
   "outputs": [],
   "source": [
    "title = 'COVID-2019'\n",
    "# d = pd.to_datetime(str(max_data_date)).strftime('%Y-%m-%d')\n",
    "chart_title = title + ' as of ' + pd.to_datetime(str(max_data_date)).strftime('%Y-%m-%d')\n",
    "\n",
    "legend_orientation=\"v\"\n",
    "chart_height = 900"
   ]
  },
  {
   "cell_type": "markdown",
   "metadata": {},
   "source": [
    "## Plot cases over time"
   ]
  },
  {
   "cell_type": "code",
   "execution_count": null,
   "metadata": {
    "_kg_hide-input": true
   },
   "outputs": [],
   "source": [
    "import plotly.offline as py\n",
    "import plotly.graph_objs as go\n",
    "\n",
    "py.offline.init_notebook_mode(connected=True)\n",
    "# cases_df = csv_df[['date','Confirmed','Deaths','Recovered','Active']].groupby('date').sum() # clean.csv\n",
    "cases_df = csv_df[['Date','Confirmed','Deaths','Active','Recovered']].groupby('Date').sum()\n",
    "\n",
    "data = []\n",
    "# categories = ['Confirmed', 'Deaths', 'Recovered', 'Active'] # clean.csv\n",
    "categories = ['Confirmed', 'Deaths','Active','Recovered']\n",
    "\n",
    "for category in categories:\n",
    "    trace = go.Scatter(\n",
    "        x=cases_df.index, \n",
    "        y=cases_df[category],\n",
    "        mode=\"markers+lines\",\n",
    "        name = category\n",
    "    )\n",
    "    data.append(trace)\n",
    "\n",
    "py.iplot({\n",
    "    \"data\": data,\n",
    "    \"layout\": go.Layout(title=chart_title)\n",
    "})"
   ]
  },
  {
   "cell_type": "markdown",
   "metadata": {},
   "source": [
    "## Sunburst chart"
   ]
  },
  {
   "cell_type": "code",
   "execution_count": null,
   "metadata": {
    "_kg_hide-input": true
   },
   "outputs": [],
   "source": [
    "df = csv_df.loc[csv_df.Date==max_data_date]\n",
    "# by_country = df[['Country/Region','Confirmed','Deaths', 'Recovered','Active']].groupby(['Country/Region']).sum() # clean.csv\n",
    "by_country = df[['Country/Region','Confirmed','Deaths','Active','Recovered']].groupby(['Country/Region']).sum() # clean.csv\n",
    "by_country.sort_values(by='Confirmed',ascending=False,inplace=True)\n",
    "\n",
    "countries = by_country.index.to_list()\n",
    "print('Number of countries with confirmed cases = ',len(countries))\n",
    "\n",
    "# Looks lot have hit a limit of Sunburst chart\n",
    "max_countries = 173\n",
    "countries = countries[:max_countries]\n",
    "ids = countries\n",
    "labels = countries\n",
    "parents = [title] * len(countries)\n",
    "values = by_country.Confirmed.to_list()[:max_countries]\n",
    "\n",
    "classifications = by_country.columns.drop('Confirmed')\n",
    "\n",
    "for cty in countries: \n",
    "    for c in classifications:\n",
    "        ids = ids + [cty + '_' + c]\n",
    "        parents = parents + [cty]\n",
    "        labels = labels + [c]\n",
    "        values = values + [by_country.loc[cty][c]]\n",
    "\n",
    "trace = go.Sunburst(\n",
    "    ids=ids,\n",
    "    labels=labels,\n",
    "    parents=parents,\n",
    "    values=values,\n",
    "    branchvalues=\"total\",\n",
    "    outsidetextfont={\"size\": 20, \"color\": \"#377eb8\"},\n",
    "#     leaf={\"opacity\": 0.4},\n",
    "    marker={\"line\": {\"width\": 2}}\n",
    ")\n",
    "\n",
    "layout = go.Layout(\n",
    "    title = chart_title + \"<br>(click on country)\",\n",
    "    margin = go.layout.Margin(t=100, l=0, r=0, b=0),\n",
    "    sunburstcolorway=[\"#636efa\",\"#ef553b\",\"#00cc96\"]\n",
    ")\n",
    "\n",
    "fig = go.Figure([trace], layout)\n",
    "\n",
    "py.iplot(fig)"
   ]
  },
  {
   "cell_type": "markdown",
   "metadata": {},
   "source": [
    "## Plot cases by location with animation"
   ]
  },
  {
   "cell_type": "code",
   "execution_count": null,
   "metadata": {
    "_kg_hide-input": true
   },
   "outputs": [],
   "source": [
    "import plotly.express as px\n",
    "import numpy as np\n",
    "\n",
    "# Log confirmed values to show cases, otherwise countries with smaller number of cases will be a pixel\n",
    "csv_df['Confirmed_log'] = np.log(1+csv_df['Confirmed'])\n",
    "csv_df['Confirmed_log'] = csv_df['Confirmed_log'].fillna(0)\n",
    "csv_df['color'] = 'fuschia'\n",
    "\n",
    "a_df = csv_df.sort_values(by=['Date'])\n",
    "fig = px.scatter_mapbox(a_df,\n",
    "                    animation_frame='Date',\n",
    "                    animation_group=\"Country/Region\",\n",
    "                    lat=\"Lat\", lon=\"Long\", hover_name=\"Province/State\", \n",
    "                    hover_data=[\"Province/State\",\"Country/Region\",\"Confirmed\",\"Deaths\",\"Recovered\"], # clean.csv\n",
    "                    size=\"Confirmed_log\",\n",
    "                    color_discrete_sequence=['hsla(360, 100%, 50%, 0.5)'], # lightsalmon, rgb(255,70,0)\n",
    "                    zoom=0.5\n",
    "                    )\n",
    "fig.update_layout(mapbox_style=\"open-street-map\")\n",
    "fig.update_layout(title=chart_title\n",
    "                 , width = 900, height = 600)\n",
    "fig.show()"
   ]
  },
  {
   "cell_type": "markdown",
   "metadata": {},
   "source": [
    "## List of top 20 countries"
   ]
  },
  {
   "cell_type": "code",
   "execution_count": null,
   "metadata": {
    "_kg_hide-input": true
   },
   "outputs": [],
   "source": [
    "top_country_confirmed = by_country.sort_values(by=\"Confirmed\",ascending=False).index.to_list()\n",
    "top_country_deaths = by_country.sort_values(by=\"Deaths\",ascending=False).index.to_list()\n",
    "# top_country_recovered = by_country.sort_values(by=\"Recovered\",ascending=False).index.to_list() # clean.csv\n",
    "top_country = {\n",
    "    'Confirmed' : top_country_confirmed,\n",
    "    'Deaths' : top_country_deaths,\n",
    "#     'Recovered' : top_country_recovered, # clean.csv\n",
    "}\n",
    "top_n = 20\n",
    "print('Top {} Confirmed countries : {}'.format(top_n,top_country['Confirmed'][:top_n]))\n",
    "\n",
    "top_n = 6"
   ]
  },
  {
   "cell_type": "markdown",
   "metadata": {},
   "source": [
    "## By country"
   ]
  },
  {
   "cell_type": "code",
   "execution_count": null,
   "metadata": {
    "_kg_hide-input": true
   },
   "outputs": [],
   "source": [
    "# country_cases_df = csv_df[['Country/Region','Date','Confirmed','Deaths','Recovered']].groupby(['Country/Region','date']).sum() # clean.csv\n",
    "country_cases_df = csv_df[['Country/Region','Date','Confirmed','Deaths','Active','Recovered']].groupby(['Country/Region','Date']).sum()\n",
    "\n",
    "data = []\n",
    "countries = np.sort(csv_df['Country/Region'].unique())\n",
    "category = 'Confirmed'\n",
    "for c in countries:\n",
    "    country = country_cases_df.loc[c]\n",
    "    \n",
    "    visible_flag = 'legendonly'\n",
    "    if c in top_country[category][:top_n]:\n",
    "        visible_flag = None\n",
    "    trace = go.Scatter(\n",
    "        x=country.index.to_list(), \n",
    "        y=country[category],\n",
    "        mode=\"markers+lines\",\n",
    "        name = c,\n",
    "        text = c,\n",
    "        visible=visible_flag\n",
    "    )\n",
    "    data.append(trace)\n",
    "\n",
    "py.iplot({\n",
    "    \"data\": data,\n",
    "    \"layout\": go.Layout(title='<B>{}</B><BR>\\\n",
    "        <I>Top {} countries with {} shown. Click legend to show others</I>'.format(chart_title,top_n,category\n",
    "             , height = chart_height,legend_orientation=legend_orientation))\n",
    "})"
   ]
  },
  {
   "cell_type": "code",
   "execution_count": null,
   "metadata": {
    "_kg_hide-input": true
   },
   "outputs": [],
   "source": [
    "country_cases_df['Confirmed_1st_diff'] = country_cases_df['Confirmed'].diff().fillna(0)\n",
    "\n",
    "# Cleanup Confirmed_diff negative to 0\n",
    "country_cases_df['Confirmed_1st_diff'] = country_cases_df['Confirmed_1st_diff'].apply(lambda x: x if x > 0 else 0)\n",
    "\n",
    "# average over n intervals\n",
    "n = 7\n",
    "country_cases_df['Confirmed_ewm'] = pd.Series.ewm(country_cases_df['Confirmed_1st_diff'], span=7).mean()\n",
    "\n",
    "\n",
    "data = []\n",
    "countries = np.sort(csv_df['Country/Region'].unique())\n",
    "for c in countries:\n",
    "    country = country_cases_df.loc[c]\n",
    "\n",
    "    visible = 'legendonly'\n",
    "    if c in top_country['Confirmed'][:top_n]:\n",
    "        visible = None\n",
    "    trace = go.Scatter(\n",
    "        x=country.index.to_list(), \n",
    "        y=country['Confirmed_ewm'],\n",
    "        mode=\"markers+lines\",\n",
    "        name = c,\n",
    "        visible=visible\n",
    "    )\n",
    "    data.append(trace)\n",
    "\n",
    "py.iplot({\n",
    "    \"data\": data,\n",
    "    \"layout\": go.Layout(title='<B>{} - ewm</B><BR><I>\\\n",
    "    Only top {} countriesshown</I>'.format(chart_title,top_n)\n",
    "                       , legend_orientation=legend_orientation)\n",
    "})"
   ]
  },
  {
   "cell_type": "markdown",
   "metadata": {},
   "source": [
    "## By country aligned by Confirmed >= n"
   ]
  },
  {
   "cell_type": "code",
   "execution_count": null,
   "metadata": {
    "_kg_hide-input": true
   },
   "outputs": [],
   "source": [
    "category_n = 100\n",
    "category = 'Confirmed'\n",
    "\n",
    "country_cases_df = csv_df[['Province/State','Country/Region','Date','Confirmed','Deaths','Recovered','Active']].groupby(['Country/Region','Date']).sum()\n",
    "country_cases_df_growth = country_cases_df.loc[country_cases_df[category] > category_n]\n",
    "\n",
    "# Insert a placeholder column\n",
    "country_cases_df_growth.insert(loc=0, column='ID', value=0)\n",
    "country_cases_df_growth.reset_index().set_index(['Country/Region'])\n",
    "\n",
    "# Set ID counter for each country which will be used as index\n",
    "pd.options.mode.chained_assignment = None\n",
    "for c in countries:\n",
    "    try:\n",
    "        country_cases_df_growth.loc[c,'ID'] = np.arange(len(country_cases_df_growth.loc[c]))\n",
    "    except:\n",
    "        pass\n",
    "\n",
    "country_cases_df_growth = country_cases_df_growth.reset_index().set_index(['Country/Region','ID'])\n",
    "data = []\n",
    "for c in countries:\n",
    "    try:\n",
    "        country = country_cases_df_growth.loc[c]\n",
    "\n",
    "        visible_flag = 'legendonly'\n",
    "        if c in top_country[category][:top_n]:\n",
    "            visible_flag = None\n",
    "        trace = go.Scatter(\n",
    "            x=country.index.to_list(), \n",
    "            y=country[category],\n",
    "            mode=\"markers+lines\",\n",
    "            name = c,\n",
    "            text = country.Date,\n",
    "            visible=visible_flag\n",
    "        )\n",
    "        data.append(trace)\n",
    "    except:\n",
    "        pass\n",
    "\n",
    "py.iplot({\n",
    "    \"data\": data,\n",
    "    \"layout\": go.Layout(title='<B>{chart_title}</B><BR><I>\\\n",
    "    Shifted to align increase - {category} > {category_n}<BR>\\\n",
    "    Top {top_n} countries with {category} shown. Click legend to show others</I>'.format(chart_title=chart_title,top_n=top_n,category=category,category_n=category_n)\n",
    "                       , legend_orientation=legend_orientation)\n",
    "})"
   ]
  },
  {
   "cell_type": "markdown",
   "metadata": {},
   "source": [
    "## By country aligned by Deaths >= n"
   ]
  },
  {
   "cell_type": "code",
   "execution_count": null,
   "metadata": {
    "_kg_hide-input": true
   },
   "outputs": [],
   "source": [
    "category_n = 100\n",
    "category = 'Deaths'\n",
    "\n",
    "country_cases_df = csv_df[['Province/State','Country/Region','Date','Confirmed','Deaths','Recovered','Active']].groupby(['Country/Region','Date']).sum()\n",
    "country_cases_df_growth = country_cases_df.loc[country_cases_df[category] > category_n]\n",
    "\n",
    "# Insert a placeholder column\n",
    "country_cases_df_growth.insert(loc=0, column='ID', value=0)\n",
    "country_cases_df_growth.reset_index().set_index(['Country/Region'])\n",
    "\n",
    "# Set ID counter for each country which will be used as index\n",
    "pd.options.mode.chained_assignment = None\n",
    "for c in countries:\n",
    "    try:\n",
    "        country_cases_df_growth.loc[c,'ID'] = np.arange(len(country_cases_df_growth.loc[c]))\n",
    "    except:\n",
    "        pass\n",
    "\n",
    "country_cases_df_growth = country_cases_df_growth.reset_index().set_index(['Country/Region','ID'])\n",
    "data = []\n",
    "for c in countries:\n",
    "    try:\n",
    "        country = country_cases_df_growth.loc[c]\n",
    "\n",
    "        visible_flag = 'legendonly'\n",
    "        if c in top_country[category][:top_n]:\n",
    "            visible_flag = None\n",
    "        trace = go.Scatter(\n",
    "            x=country.index.to_list(), \n",
    "            y=country[category],\n",
    "            mode=\"markers+lines\",\n",
    "            name = c,\n",
    "            text = country.Date,\n",
    "            visible=visible_flag\n",
    "        )\n",
    "        data.append(trace)\n",
    "    except:\n",
    "        pass\n",
    "\n",
    "py.iplot({\n",
    "    \"data\": data,\n",
    "    \"layout\": go.Layout(title='<B>{chart_title}</B><BR><I>\\\n",
    "    Shifted to align increase - {category} > {category_n}<BR>\\\n",
    "    Top {top_n} countries with {category} shown. Click legend to show others</I>'.format(chart_title=chart_title,top_n=top_n,category=category,category_n=category_n)\n",
    "                       , legend_orientation=legend_orientation)\n",
    "})"
   ]
  },
  {
   "cell_type": "markdown",
   "metadata": {},
   "source": [
    "## By country aligned by Confirmed growth"
   ]
  },
  {
   "cell_type": "code",
   "execution_count": null,
   "metadata": {
    "_kg_hide-input": true
   },
   "outputs": [],
   "source": [
    "country_cases_df['Confirmed_pct'] = country_cases_df.pct_change().fillna(0)['Confirmed']\n",
    "country_cases_df_growth = country_cases_df.loc[country_cases_df['Confirmed_pct'] > 0]\n",
    "\n",
    "# Insert a placeholder column\n",
    "country_cases_df_growth.insert(loc=0, column='ID', value=0)\n",
    "country_cases_df_growth.reset_index().set_index(['Country/Region'])\n",
    "\n",
    "# Set ID counter for each country which will be used as index\n",
    "pd.options.mode.chained_assignment = None\n",
    "for c in countries:\n",
    "    try:\n",
    "        country_cases_df_growth.loc[c,'ID'] = np.arange(len(country_cases_df_growth.loc[c]))\n",
    "    except:\n",
    "        pass\n",
    "\n",
    "country_cases_df_growth = country_cases_df_growth.reset_index().set_index(['Country/Region','ID'])\n",
    "data = []\n",
    "category = 'Confirmed'\n",
    "for c in countries:\n",
    "    try:\n",
    "        country = country_cases_df_growth.loc[c]\n",
    "\n",
    "        visible_flag = 'legendonly'\n",
    "        if c in top_country[category][:top_n]:\n",
    "            visible_flag = None\n",
    "        trace = go.Scatter(\n",
    "            x=country.index.to_list(), \n",
    "            y=country[category],\n",
    "            mode=\"markers+lines\",\n",
    "            name = c,\n",
    "            text = country.Date,\n",
    "            visible=visible_flag\n",
    "        )\n",
    "        data.append(trace)\n",
    "    except:\n",
    "        pass\n",
    "\n",
    "py.iplot({\n",
    "    \"data\": data,\n",
    "    \"layout\": go.Layout(title='<B>{}</B><BR>\\\n",
    "        <I>Shifted to align increase<BR>\\\n",
    "        Top {} countries with {} shown. Click legend to show others</I>'.format(chart_title,top_n,category\n",
    "             , height = chart_height,legend_orientation=legend_orientation))\n",
    "})"
   ]
  },
  {
   "cell_type": "markdown",
   "metadata": {},
   "source": [
    "## By country aligned by Deaths"
   ]
  },
  {
   "cell_type": "code",
   "execution_count": null,
   "metadata": {
    "_kg_hide-input": true
   },
   "outputs": [],
   "source": [
    "data = []\n",
    "category = 'Deaths'\n",
    "for c in countries:\n",
    "    try:\n",
    "        country = country_cases_df_growth.loc[c]\n",
    "\n",
    "        visible_flag = 'legendonly'\n",
    "        if c in top_country[category][:top_n]:\n",
    "            visible_flag = None\n",
    "        trace = go.Scatter(\n",
    "            x=country.index.to_list(), \n",
    "            y=country[category],\n",
    "            mode=\"markers+lines\",\n",
    "            name = c,\n",
    "            text = country.Date,\n",
    "            visible=visible_flag\n",
    "        )\n",
    "        data.append(trace)\n",
    "    except:\n",
    "        pass\n",
    "\n",
    "py.iplot({\n",
    "    \"data\": data,\n",
    "    \"layout\": go.Layout(title='<B>{}</B><BR>\\\n",
    "        <I>Shifted to align increase<BR>\\\n",
    "        Top {} countries with {} shown. Click legend to show others</I>'.format(chart_title,top_n,category\n",
    "            , height = chart_height,legend_orientation=legend_orientation))\n",
    "})"
   ]
  }
 ],
 "metadata": {
  "kernelspec": {
   "display_name": "Python 3",
   "language": "python",
   "name": "python3"
  },
  "language_info": {
   "codemirror_mode": {
    "name": "ipython",
    "version": 3
   },
   "file_extension": ".py",
   "mimetype": "text/x-python",
   "name": "python",
   "nbconvert_exporter": "python",
   "pygments_lexer": "ipython3",
   "version": "3.6.8"
  }
 },
 "nbformat": 4,
 "nbformat_minor": 4
}
